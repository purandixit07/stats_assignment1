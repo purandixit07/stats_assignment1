{
 "cells": [
  {
   "cell_type": "markdown",
   "id": "946ee671",
   "metadata": {},
   "source": [
    "# Q.1"
   ]
  },
  {
   "cell_type": "code",
   "execution_count": null,
   "id": "722a1a07",
   "metadata": {},
   "outputs": [],
   "source": [
    "l = [6, 7, 5, 7, 7, 8, 7, 6, 9, 7, 4, 10, 6, 8, 8, 9, 5, 6, 4, 8]"
   ]
  },
  {
   "cell_type": "code",
   "execution_count": 3,
   "id": "060bca6e",
   "metadata": {},
   "outputs": [
    {
     "data": {
      "text/plain": [
       "20"
      ]
     },
     "execution_count": 3,
     "metadata": {},
     "output_type": "execute_result"
    }
   ],
   "source": [
    "len(l)"
   ]
  },
  {
   "cell_type": "code",
   "execution_count": 6,
   "id": "a5b8dc2e",
   "metadata": {},
   "outputs": [
    {
     "name": "stdout",
     "output_type": "stream",
     "text": [
      "137\n"
     ]
    },
    {
     "data": {
      "text/plain": [
       "6.85"
      ]
     },
     "execution_count": 6,
     "metadata": {},
     "output_type": "execute_result"
    }
   ],
   "source": [
    "a = 0\n",
    "for i in range(len(l)):\n",
    "    a = a + l[i] \n",
    "print(a)\n",
    "    \n",
    "mean= a/len(l)\n",
    "mean\n",
    "    "
   ]
  },
  {
   "cell_type": "code",
   "execution_count": 7,
   "id": "917eb0ac",
   "metadata": {},
   "outputs": [],
   "source": [
    "l.sort()"
   ]
  },
  {
   "cell_type": "code",
   "execution_count": 8,
   "id": "1c7299f9",
   "metadata": {},
   "outputs": [
    {
     "data": {
      "text/plain": [
       "[4, 4, 5, 5, 6, 6, 6, 6, 7, 7, 7, 7, 7, 8, 8, 8, 8, 9, 9, 10]"
      ]
     },
     "execution_count": 8,
     "metadata": {},
     "output_type": "execute_result"
    }
   ],
   "source": [
    "l"
   ]
  },
  {
   "cell_type": "code",
   "execution_count": 14,
   "id": "a98e490f",
   "metadata": {},
   "outputs": [
    {
     "data": {
      "text/plain": [
       "7.0"
      ]
     },
     "execution_count": 14,
     "metadata": {},
     "output_type": "execute_result"
    }
   ],
   "source": [
    "median = (l[int(len(l)/2)] + l[int((len(l)/2)+1)])/2\n",
    "median"
   ]
  },
  {
   "cell_type": "code",
   "execution_count": 22,
   "id": "d8c5bc3b",
   "metadata": {},
   "outputs": [
    {
     "data": {
      "text/plain": [
       "7"
      ]
     },
     "execution_count": 22,
     "metadata": {},
     "output_type": "execute_result"
    }
   ],
   "source": [
    "#mode\n",
    "def mode(l):\n",
    "    count = 0\n",
    "    for i in l:\n",
    "        freq = l.count(i)\n",
    "        if freq>count:\n",
    "            count = freq\n",
    "            num  =i\n",
    "    return num\n",
    "mode(l)"
   ]
  },
  {
   "cell_type": "code",
   "execution_count": 32,
   "id": "82defd0b",
   "metadata": {},
   "outputs": [
    {
     "data": {
      "text/plain": [
       "1.5898113095584647"
      ]
     },
     "execution_count": 32,
     "metadata": {},
     "output_type": "execute_result"
    }
   ],
   "source": [
    "#std dev\n",
    "#((l[i]-mean)**2)/len(l)\n",
    "a = 0\n",
    "for i in range(len(l)):\n",
    "    a = a + (l[i]-mean)**2\n",
    "    \n",
    "b= a/len(l) # as we are taking it as population data\n",
    "std_dev = b**0.5\n",
    "std_dev"
   ]
  },
  {
   "cell_type": "markdown",
   "id": "347b34e0",
   "metadata": {},
   "source": [
    "# Q.2"
   ]
  },
  {
   "cell_type": "code",
   "execution_count": 34,
   "id": "8b64cf1f",
   "metadata": {},
   "outputs": [],
   "source": [
    "l1 = [28, 122, 217, 130, 120, 86, 80, 90, 140, 120, 70, 40, 145, 113, 90, 68, 174, 194, 170,100, 75, 104, 97, 75,123, 100, 75, 104, 97, 75, 123, 100, 89, 120, 109]"
   ]
  },
  {
   "cell_type": "code",
   "execution_count": 35,
   "id": "994ea68c",
   "metadata": {},
   "outputs": [
    {
     "data": {
      "text/plain": [
       "35"
      ]
     },
     "execution_count": 35,
     "metadata": {},
     "output_type": "execute_result"
    }
   ],
   "source": [
    "len(l1)"
   ]
  },
  {
   "cell_type": "code",
   "execution_count": 38,
   "id": "c4827361",
   "metadata": {},
   "outputs": [
    {
     "name": "stdout",
     "output_type": "stream",
     "text": [
      "3763\n"
     ]
    },
    {
     "data": {
      "text/plain": [
       "107.51428571428572"
      ]
     },
     "execution_count": 38,
     "metadata": {},
     "output_type": "execute_result"
    }
   ],
   "source": [
    "a = 0\n",
    "for i in range(len(l1)):\n",
    "    a = a + l1[i] \n",
    "print(a)\n",
    "    \n",
    "mean1= a/len(l1)\n",
    "mean1"
   ]
  },
  {
   "cell_type": "code",
   "execution_count": 41,
   "id": "125bdeda",
   "metadata": {},
   "outputs": [],
   "source": [
    "l1.sort()"
   ]
  },
  {
   "cell_type": "code",
   "execution_count": 44,
   "id": "e41042b3",
   "metadata": {},
   "outputs": [
    {
     "data": {
      "text/plain": [
       "104"
      ]
     },
     "execution_count": 44,
     "metadata": {},
     "output_type": "execute_result"
    }
   ],
   "source": [
    "median1 = l1[int((len(l1)+1)/2)]\n",
    "median1"
   ]
  },
  {
   "cell_type": "code",
   "execution_count": 46,
   "id": "abe1d4db",
   "metadata": {},
   "outputs": [
    {
     "data": {
      "text/plain": [
       "75"
      ]
     },
     "execution_count": 46,
     "metadata": {},
     "output_type": "execute_result"
    }
   ],
   "source": [
    "#mode\n",
    "def mode(l1):\n",
    "    count = 0\n",
    "    for i in l1:\n",
    "        freq = l1.count(i)\n",
    "        if freq>count:\n",
    "            count = freq\n",
    "            num  =i\n",
    "    return num\n",
    "mode(l1)"
   ]
  },
  {
   "cell_type": "markdown",
   "id": "00e89069",
   "metadata": {},
   "source": [
    "# Q3"
   ]
  },
  {
   "cell_type": "code",
   "execution_count": 54,
   "id": "5a6df1d6",
   "metadata": {},
   "outputs": [
    {
     "data": {
      "text/plain": [
       "2.15"
      ]
     },
     "execution_count": 54,
     "metadata": {},
     "output_type": "execute_result"
    }
   ],
   "source": [
    "x = [0, 1, 2, 3, 4, 5]\n",
    "y = [0.09, 0.15, 0.40, 0.25, 0.10, 0.01]\n",
    "lst  = map(lambda x,y: x*y,x, y)\n",
    "lst1 = list(lst)\n",
    "from functools import reduce\n",
    "mean = reduce(lambda a,b: a+b, lst1)\n",
    "mean"
   ]
  },
  {
   "cell_type": "code",
   "execution_count": 67,
   "id": "9ff20b70",
   "metadata": {},
   "outputs": [
    {
     "data": {
      "text/plain": [
       "5.85"
      ]
     },
     "execution_count": 67,
     "metadata": {},
     "output_type": "execute_result"
    }
   ],
   "source": [
    "x1  = list(map(lambda x:x**2,x))\n",
    "x1\n",
    "y = [0.09, 0.15, 0.40, 0.25, 0.10, 0.01]\n",
    "x2 = list(map(lambda x,y:x*y,x1,y))\n",
    "x2\n",
    "varx = reduce(lambda a,b:a+b,x2)\n",
    "varx"
   ]
  },
  {
   "cell_type": "markdown",
   "id": "5087f3be",
   "metadata": {},
   "source": [
    "# Q5"
   ]
  },
  {
   "cell_type": "code",
   "execution_count": null,
   "id": "161da94a",
   "metadata": {},
   "outputs": [],
   "source": []
  },
  {
   "cell_type": "code",
   "execution_count": 70,
   "id": "de277a9d",
   "metadata": {},
   "outputs": [
    {
     "name": "stdout",
     "output_type": "stream",
     "text": [
      "Collecting scipyNote: you may need to restart the kernel to use updated packages.\n",
      "  Downloading scipy-1.7.1-cp38-cp38-win_amd64.whl (33.7 MB)\n"
     ]
    },
    {
     "name": "stderr",
     "output_type": "stream",
     "text": [
      "ERROR: pip's dependency resolver does not currently take into account all the packages that are installed. This behaviour is the source of the following dependency conflicts.\n",
      "scikit-learn 0.24.2 requires joblib>=0.11, which is not installed.\n",
      "scikit-learn 0.24.2 requires threadpoolctl>=2.0.0, which is not installed.\n",
      "imbalanced-learn 0.8.0 requires joblib>=0.11, which is not installed.\n"
     ]
    },
    {
     "name": "stdout",
     "output_type": "stream",
     "text": [
      "\n",
      "Requirement already satisfied: numpy<1.23.0,>=1.16.5 in c:\\users\\puran\\anaconda3\\lib\\site-packages (from scipy) (1.21.1)\n",
      "Installing collected packages: scipy\n",
      "Successfully installed scipy-1.7.1\n"
     ]
    }
   ],
   "source": [
    "pip install scipy"
   ]
  },
  {
   "cell_type": "code",
   "execution_count": 71,
   "id": "22e01b2e",
   "metadata": {},
   "outputs": [
    {
     "data": {
      "text/plain": [
       "0.3241349999999999"
      ]
     },
     "execution_count": 71,
     "metadata": {},
     "output_type": "execute_result"
    }
   ],
   "source": [
    "from scipy.stats import binom\n",
    "n = 6\n",
    "p = 0.3\n",
    "r = 2\n",
    "a = binom.pmf(r,n,p)\n",
    "a"
   ]
  },
  {
   "cell_type": "code",
   "execution_count": 73,
   "id": "433c1ddf",
   "metadata": {},
   "outputs": [
    {
     "name": "stdout",
     "output_type": "stream",
     "text": [
      "1.7999999999999998\n",
      "1.2599999999999998\n"
     ]
    }
   ],
   "source": [
    "mean, var = binom.stats(n,p)\n",
    "print(mean)\n",
    "print(var)"
   ]
  },
  {
   "cell_type": "markdown",
   "id": "c6bcab80",
   "metadata": {},
   "source": [
    "# Q6"
   ]
  },
  {
   "cell_type": "code",
   "execution_count": null,
   "id": "d48b0944",
   "metadata": {},
   "outputs": [],
   "source": []
  },
  {
   "cell_type": "code",
   "execution_count": 74,
   "id": "3177575d",
   "metadata": {},
   "outputs": [
    {
     "name": "stdout",
     "output_type": "stream",
     "text": [
      "0.20764160156249994\n"
     ]
    }
   ],
   "source": [
    "n= 8\n",
    "p = 0.75\n",
    "r = 5\n",
    "a = binom.pmf(r,n,p)\n",
    "print(a)"
   ]
  },
  {
   "cell_type": "code",
   "execution_count": 75,
   "id": "aed5108e",
   "metadata": {},
   "outputs": [
    {
     "name": "stdout",
     "output_type": "stream",
     "text": [
      "0.2224982384326581\n"
     ]
    }
   ],
   "source": [
    "n= 12\n",
    "p = 0.45\n",
    "r = 5\n",
    "a = binom.pmf(r,n,p)\n",
    "print(a)"
   ]
  },
  {
   "cell_type": "code",
   "execution_count": 76,
   "id": "bf4b4808",
   "metadata": {},
   "outputs": [
    {
     "name": "stdout",
     "output_type": "stream",
     "text": [
      "0.08651733398437499\n"
     ]
    }
   ],
   "source": [
    "n= 8\n",
    "p = 0.75\n",
    "r = 4\n",
    "a = binom.pmf(r,n,p)\n",
    "print(a)"
   ]
  },
  {
   "cell_type": "code",
   "execution_count": 77,
   "id": "db0fc101",
   "metadata": {},
   "outputs": [
    {
     "name": "stdout",
     "output_type": "stream",
     "text": [
      "0.1699639321360584\n"
     ]
    }
   ],
   "source": [
    "n= 12\n",
    "p = 0.45\n",
    "r = 4\n",
    "a = binom.pmf(r,n,p)\n",
    "print(a)"
   ]
  },
  {
   "cell_type": "code",
   "execution_count": 81,
   "id": "fbba50a3",
   "metadata": {},
   "outputs": [
    {
     "name": "stdout",
     "output_type": "stream",
     "text": [
      "0.31146240234375\n"
     ]
    }
   ],
   "source": [
    "n= 8\n",
    "p = 0.75\n",
    "r = 6\n",
    "a = binom.pmf(r,n,p)\n",
    "print(a)"
   ]
  },
  {
   "cell_type": "code",
   "execution_count": 79,
   "id": "fe14b372",
   "metadata": {},
   "outputs": [
    {
     "name": "stdout",
     "output_type": "stream",
     "text": [
      "0.21238468214026457\n"
     ]
    }
   ],
   "source": [
    "n= 12\n",
    "p = 0.45\n",
    "r = 6\n",
    "a = binom.pmf(r,n,p)\n",
    "print(a)"
   ]
  },
  {
   "cell_type": "code",
   "execution_count": 82,
   "id": "4507e294",
   "metadata": {},
   "outputs": [
    {
     "data": {
      "image/png": "[encoded data removed]",
      "text/plain": [
       "<Figure size 432x288 with 1 Axes>"
      ]
     },
     "metadata": {
      "needs_background": "light"
     },
     "output_type": "display_data"
    }
   ],
   "source": [
    "import matplotlib.pyplot as plt\n",
    "n= 8\n",
    "p = 0.75\n",
    "rv = list(range(n+1))\n",
    "distri  = [binom.pmf(r,n,p) for r in rv]\n",
    "plt.bar(rv,distri)\n",
    "plt.show()"
   ]
  },
  {
   "cell_type": "code",
   "execution_count": 83,
   "id": "ae847768",
   "metadata": {},
   "outputs": [
    {
     "data": {
      "image/png": "[encoded data removed]",
      "text/plain": [
       "<Figure size 432x288 with 1 Axes>"
      ]
     },
     "metadata": {
      "needs_background": "light"
     },
     "output_type": "display_data"
    }
   ],
   "source": [
    "n= 12\n",
    "p = 0.45\n",
    "rv = list(range(n+1))\n",
    "distri  = [binom.pmf(r,n,p) for r in rv]\n",
    "plt.bar(rv,distri)\n",
    "plt.show()"
   ]
  },
  {
   "cell_type": "markdown",
   "id": "4d055eee",
   "metadata": {},
   "source": [
    "# Q7"
   ]
  },
  {
   "cell_type": "code",
   "execution_count": null,
   "id": "1793b27f",
   "metadata": {},
   "outputs": [],
   "source": [
    "72 per hour\n",
    "60-72\n",
    "1-72/60\n",
    "4-72/60*4=24/5 = lambd\n",
    "k cust in 4 minutes =24/5^k.e-lambd/k!\n",
    "lamb = (72/60)*4"
   ]
  },
  {
   "cell_type": "code",
   "execution_count": 24,
   "id": "a3ab937e",
   "metadata": {},
   "outputs": [
    {
     "data": {
      "text/plain": [
       "0.17474768364388282"
      ]
     },
     "execution_count": 24,
     "metadata": {},
     "output_type": "execute_result"
    }
   ],
   "source": [
    "from scipy.stats import poisson\n",
    "import numpy as np\n",
    "from scipy.special import factorial\n",
    "lam = 72*4/60\n",
    "x = 5\n",
    "p = np.exp(-lam)* np.power(lam,x)/factorial(x)\n",
    "p\n"
   ]
  },
  {
   "cell_type": "code",
   "execution_count": 22,
   "id": "6fcdb814",
   "metadata": {},
   "outputs": [
    {
     "name": "stdout",
     "output_type": "stream",
     "text": [
      "0.2942299164965641\n"
     ]
    }
   ],
   "source": [
    "lam = 72*4/60\n",
    "x = range(4)\n",
    "p = 0\n",
    "for i in x:\n",
    "    p = p + np.exp(-lam)* np.power(lam,i)/factorial(i)\n",
    "\n",
    "print(p)\n",
    "    \n"
   ]
  },
  {
   "cell_type": "code",
   "execution_count": 21,
   "id": "8445daef",
   "metadata": {},
   "outputs": [
    {
     "name": "stdout",
     "output_type": "stream",
     "text": [
      "0.705770083503436\n"
     ]
    }
   ],
   "source": [
    "lam = 72*4/60\n",
    "x = range(4)\n",
    "p1 = 0\n",
    "for i in x:\n",
    "    p1 = p1 + np.exp(-lam)* np.power(lam,i)/factorial(i)\n",
    "    p = 1-p1\n",
    "print(p)\n",
    "    \n"
   ]
  },
  {
   "cell_type": "code",
   "execution_count": 27,
   "id": "7e81377f",
   "metadata": {},
   "outputs": [
    {
     "data": {
      "application/javascript": [
       "\n",
       "        if (window._pyforest_update_imports_cell) { window._pyforest_update_imports_cell('import matplotlib.pyplot as plt'); }\n",
       "    "
      ],
      "text/plain": [
       "<IPython.core.display.Javascript object>"
      ]
     },
     "metadata": {},
     "output_type": "display_data"
    },
    {
     "data": {
      "application/javascript": [
       "\n",
       "        if (window._pyforest_update_imports_cell) { window._pyforest_update_imports_cell('import matplotlib.pyplot as plt'); }\n",
       "    "
      ],
      "text/plain": [
       "<IPython.core.display.Javascript object>"
      ]
     },
     "metadata": {},
     "output_type": "display_data"
    },
    {
     "data": {
      "image/png": "[encoded data removed]",
      "text/plain": [
       "<Figure size 432x288 with 1 Axes>"
      ]
     },
     "metadata": {
      "needs_background": "light"
     },
     "output_type": "display_data"
    }
   ],
   "source": [
    "lam = 72*4/60\n",
    "x = np.arange(0,20,1)\n",
    "p = np.exp(-lam)* np.power(lam,x)/factorial(x)\n",
    "plt.plot(x,p,'bd')\n",
    "plt.show()\n"
   ]
  },
  {
   "cell_type": "markdown",
   "id": "b72954b6",
   "metadata": {},
   "source": [
    "# Q8"
   ]
  },
  {
   "cell_type": "raw",
   "id": "2233f5f2",
   "metadata": {},
   "source": [
    "error rate = 6/hr\n",
    "typing speed = 77 words/minute\n",
    "avg time taken for 455 words = 455/77 ~6 min\n",
    "avg error rate in 6 min = 3/5 =lam\n",
    "p(X=x) = np.exp(-lam)* np.power(lam,x)/factorial(x)"
   ]
  },
  {
   "cell_type": "code",
   "execution_count": 31,
   "id": "b1bd0af3",
   "metadata": {},
   "outputs": [
    {
     "data": {
      "text/plain": [
       "0.09878609449692477"
      ]
     },
     "execution_count": 31,
     "metadata": {},
     "output_type": "execute_result"
    }
   ],
   "source": [
    "lam = 3/5\n",
    "p = np.exp(-lam)* np.power(lam,2)/factorial(2)\n",
    "p"
   ]
  },
  {
   "cell_type": "code",
   "execution_count": 41,
   "id": "74e59065",
   "metadata": {},
   "outputs": [
    {
     "data": {
      "application/javascript": [
       "\n",
       "        if (window._pyforest_update_imports_cell) { window._pyforest_update_imports_cell('import matplotlib.pyplot as plt'); }\n",
       "    "
      ],
      "text/plain": [
       "<IPython.core.display.Javascript object>"
      ]
     },
     "metadata": {},
     "output_type": "display_data"
    },
    {
     "data": {
      "application/javascript": [
       "\n",
       "        if (window._pyforest_update_imports_cell) { window._pyforest_update_imports_cell('import matplotlib.pyplot as plt'); }\n",
       "    "
      ],
      "text/plain": [
       "<IPython.core.display.Javascript object>"
      ]
     },
     "metadata": {},
     "output_type": "display_data"
    },
    {
     "data": {
      "image/png": "[encoded data removed]",
      "text/plain": [
       "<Figure size 432x288 with 1 Axes>"
      ]
     },
     "metadata": {
      "needs_background": "light"
     },
     "output_type": "display_data"
    }
   ],
   "source": [
    "n = np.arange(77,1540,77)\n",
    "lam = (6/60)*(455/77)\n",
    "#x= np.arange(0,19)\n",
    "x=np.arange(0,19)\n",
    "p = np.exp(-lam)* np.power(lam,x)/factorial(x)\n",
    "plt.plot(x,p,'bd')\n",
    "plt.show()"
   ]
  },
  {
   "cell_type": "code",
   "execution_count": 42,
   "id": "77cd4757",
   "metadata": {},
   "outputs": [
    {
     "data": {
      "application/javascript": [
       "\n",
       "        if (window._pyforest_update_imports_cell) { window._pyforest_update_imports_cell('import matplotlib.pyplot as plt'); }\n",
       "    "
      ],
      "text/plain": [
       "<IPython.core.display.Javascript object>"
      ]
     },
     "metadata": {},
     "output_type": "display_data"
    },
    {
     "data": {
      "application/javascript": [
       "\n",
       "        if (window._pyforest_update_imports_cell) { window._pyforest_update_imports_cell('import matplotlib.pyplot as plt'); }\n",
       "    "
      ],
      "text/plain": [
       "<IPython.core.display.Javascript object>"
      ]
     },
     "metadata": {},
     "output_type": "display_data"
    },
    {
     "data": {
      "image/png": "[encoded data removed]",
      "text/plain": [
       "<Figure size 432x288 with 1 Axes>"
      ]
     },
     "metadata": {
      "needs_background": "light"
     },
     "output_type": "display_data"
    }
   ],
   "source": [
    "n = np.arange(77,1540,77)\n",
    "lam = (6/60)*(1000/77)\n",
    "#x= np.arange(0,19)\n",
    "x=np.arange(0,19)\n",
    "p = np.exp(-lam)* np.power(lam,x)/factorial(x)\n",
    "plt.plot(x,p,'bd')\n",
    "plt.show()"
   ]
  },
  {
   "cell_type": "code",
   "execution_count": 43,
   "id": "15d3b5f5",
   "metadata": {},
   "outputs": [
    {
     "data": {
      "application/javascript": [
       "\n",
       "        if (window._pyforest_update_imports_cell) { window._pyforest_update_imports_cell('import matplotlib.pyplot as plt'); }\n",
       "    "
      ],
      "text/plain": [
       "<IPython.core.display.Javascript object>"
      ]
     },
     "metadata": {},
     "output_type": "display_data"
    },
    {
     "data": {
      "application/javascript": [
       "\n",
       "        if (window._pyforest_update_imports_cell) { window._pyforest_update_imports_cell('import matplotlib.pyplot as plt'); }\n",
       "    "
      ],
      "text/plain": [
       "<IPython.core.display.Javascript object>"
      ]
     },
     "metadata": {},
     "output_type": "display_data"
    },
    {
     "data": {
      "image/png": "[encoded data removed]",
      "text/plain": [
       "<Figure size 432x288 with 1 Axes>"
      ]
     },
     "metadata": {
      "needs_background": "light"
     },
     "output_type": "display_data"
    }
   ],
   "source": [
    "n = np.arange(77,1540,77)\n",
    "lam = (6/60)*(255/77)\n",
    "#x= np.arange(0,19)\n",
    "x=np.arange(0,19)\n",
    "p = np.exp(-lam)* np.power(lam,x)/factorial(x)\n",
    "plt.plot(x,p,'bd')\n",
    "plt.show()"
   ]
  },
  {
   "cell_type": "markdown",
   "id": "cdfd21ba",
   "metadata": {},
   "source": [
    "# Q 10"
   ]
  },
  {
   "cell_type": "raw",
   "id": "f97d6081",
   "metadata": {},
   "source": [
    "p(z=1.26)=0.89617\n",
    "p(z>1.26) = 1-0.89617 = 0.1038\n",
    "p(z<-0.86)=0.1948\n",
    "p(z>-1.37)=1-0.8534= 0.1466\n",
    "p(-1.25<z<0.37)=0.6443-0.1056= 0.5387\n",
    "p(z<-4.6)=0"
   ]
  },
  {
   "cell_type": "raw",
   "id": "07337aa7",
   "metadata": {},
   "source": [
    "p(Z>z) = 0.05\n",
    "1-0.05=0.95\n",
    "z=1.65"
   ]
  },
  {
   "cell_type": "raw",
   "id": "4a2fa3b9",
   "metadata": {},
   "source": [
    "p(-z<Z<z)=0.99\n",
    "1-0.99=0.01\n",
    "0.01/2=0.005\n",
    "z=-2.54"
   ]
  },
  {
   "cell_type": "markdown",
   "id": "7557ceec",
   "metadata": {},
   "source": [
    "# Q11"
   ]
  },
  {
   "cell_type": "raw",
   "id": "d9a35886",
   "metadata": {},
   "source": [
    "mu = 10, var = 4, sigma = 2\n",
    "X= 13, z= (13-10)/2=1.5\n",
    "p(1.5)= 0.93319\n",
    "p = 1-0.93319=0.0668"
   ]
  },
  {
   "cell_type": "raw",
   "id": "8638442a",
   "metadata": {},
   "source": [
    "probability of current between 9 (z=-0.5) and 11(z=0.5) mA = 0.69146-0.30854=0.3829"
   ]
  },
  {
   "cell_type": "raw",
   "id": "eb8e6c96",
   "metadata": {},
   "source": [
    "z = 2.6 for p = 0.98\n",
    "X = 2*2.6+10=15.2\n",
    "15.2mA"
   ]
  },
  {
   "cell_type": "markdown",
   "id": "912b03bc",
   "metadata": {},
   "source": [
    "# Q 12"
   ]
  },
  {
   "cell_type": "raw",
   "id": "686eeed5",
   "metadata": {},
   "source": [
    "shaft specification = 0.2500+0.0015=0.2515\n",
    "                      0.2500-0.0015=0.2485\n",
    "mean = 0.2508\n",
    "sigma = 0.0005\n",
    "for 1 sigma dimensons = 0.2508+0.0005=0.2513\n",
    "                        0.2508-0.0005=0.2503\n",
    "for 2 sigma dimensons = 0.2508+0.0010=0.2518\n",
    "                        0.2508-0.0010=0.2498 which is outside of specifications\n",
    "hence 68.27% of shaft in sync with specifications."
   ]
  },
  {
   "cell_type": "raw",
   "id": "b2c4b9f4",
   "metadata": {},
   "source": [
    "for mean centered at 0.2500\n",
    "3sigma=0.0015 then mean+3sigma and mean-3sigma are in under specifications. this means 99.73% of shaft in sync with specifications."
   ]
  },
  {
   "cell_type": "raw",
   "id": "49b2d693",
   "metadata": {},
   "source": [
    "conclusion: Its better to keep mean of samples near the specification mean."
   ]
  }
 ],
 "metadata": {
  "kernelspec": {
   "display_name": "Python 3",
   "language": "python",
   "name": "python3"
  },
  "language_info": {
   "codemirror_mode": {
    "name": "ipython",
    "version": 3
   },
   "file_extension": ".py",
   "mimetype": "text/x-python",
   "name": "python",
   "nbconvert_exporter": "python",
   "pygments_lexer": "ipython3",
   "version": "3.8.8"
  }
 },
 "nbformat": 4,
 "nbformat_minor": 5
}
